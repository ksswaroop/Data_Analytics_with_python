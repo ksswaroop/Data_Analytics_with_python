{
 "cells": [
  {
   "cell_type": "code",
   "execution_count": 1,
   "id": "9db08cd6-333c-43de-b515-ef7d2d5100ec",
   "metadata": {},
   "outputs": [],
   "source": [
    "import scipy\n",
    "import numpy as np"
   ]
  },
  {
   "cell_type": "markdown",
   "id": "ffc06a3c-2d17-4819-86e7-11758d9cd981",
   "metadata": {},
   "source": [
    "### Binomial Distribution"
   ]
  },
  {
   "cell_type": "code",
   "execution_count": 2,
   "id": "e947d8c5-2d33-4ee0-bc0a-75557d683a45",
   "metadata": {},
   "outputs": [],
   "source": [
    "from scipy.stats import binom"
   ]
  },
  {
   "cell_type": "markdown",
   "id": "3728d079-9240-4d78-84d8-f0a01025cfba",
   "metadata": {},
   "source": [
    "A survey found that 65% of all financial consumers were satisfied with their primary financial\n",
    "institution. Suppose taht 25 financial consumers are sampled and if survey result still holds true today, what is the probability that exactly 19 are very satsfied with their primary institutuion ?"
   ]
  },
  {
   "cell_type": "code",
   "execution_count": 3,
   "id": "ec9850aa-ae51-4150-bb1e-ebb05b18031d",
   "metadata": {},
   "outputs": [
    {
     "name": "stdout",
     "output_type": "stream",
     "text": [
      "0.090777998593228\n"
     ]
    }
   ],
   "source": [
    "print(binom.pmf(k=19,n=25,p=0.65))"
   ]
  },
  {
   "cell_type": "markdown",
   "id": "eaccf96d-4405-49a8-bc05-1cf24ef9ea87",
   "metadata": {},
   "source": [
    "According to the US. Census Bureau, approximately 6% of all workers in Jackson. Mississipp. are unemployed In conducting a random telephone survey in\n",
    "Jackson, whats the probability of geting two or fewer unemployed workers in a sample of 20?"
   ]
  },
  {
   "cell_type": "code",
   "execution_count": 4,
   "id": "7f8a4ecf-2f62-4052-bbd2-35aff701d515",
   "metadata": {},
   "outputs": [
    {
     "data": {
      "text/plain": [
       "0.8850275957378549"
      ]
     },
     "execution_count": 4,
     "metadata": {},
     "output_type": "execute_result"
    }
   ],
   "source": [
    "binom.cdf(2,20,0.06)"
   ]
  },
  {
   "cell_type": "markdown",
   "id": "fcba7c9f-b0ef-486f-9205-8735ab4d467e",
   "metadata": {},
   "source": [
    "### Solve the Binomial  probability for n=20, p=40 and x=10"
   ]
  },
  {
   "cell_type": "code",
   "execution_count": 5,
   "id": "72d5ac93-5030-4666-90c2-7b2bf55c444d",
   "metadata": {},
   "outputs": [
    {
     "name": "stdout",
     "output_type": "stream",
     "text": [
      "0.11714155053639005\n"
     ]
    }
   ],
   "source": [
    "print(binom.pmf(k=10,n=20,p=0.4))"
   ]
  },
  {
   "cell_type": "markdown",
   "id": "9e280251-0c6b-49f6-a7b9-e6a92daa5c0c",
   "metadata": {},
   "source": [
    "### Poisson Distribution"
   ]
  },
  {
   "cell_type": "code",
   "execution_count": 6,
   "id": "96d4a9d8-36ab-449c-99ea-a697cdc6e045",
   "metadata": {},
   "outputs": [],
   "source": [
    "from scipy.stats import poisson"
   ]
  },
  {
   "cell_type": "markdown",
   "id": "4a347b52-5524-4f96-b931-347dc8b1f031",
   "metadata": {},
   "source": [
    "Suppose bank customers arrive randomly on weekday afternoons at an average of 3.2 customers every 4 minutes. What is the probability of exactiy 5 customers arriving in a 4 -minute interval on a weekday afternoon?"
   ]
  },
  {
   "cell_type": "code",
   "execution_count": 7,
   "id": "d06a8a27-dd0a-4529-9fa9-65067cc72859",
   "metadata": {},
   "outputs": [
    {
     "name": "stdout",
     "output_type": "stream",
     "text": [
      "0.11397938346351824\n"
     ]
    }
   ],
   "source": [
    "print(poisson.pmf(5,3.2)) #x=3, Mean=2"
   ]
  },
  {
   "cell_type": "code",
   "execution_count": 8,
   "id": "ae5e1618-30e9-4bc4-97d6-deb48390c4da",
   "metadata": {},
   "outputs": [
    {
     "data": {
      "text/plain": [
       "0.03783327480207079"
      ]
     },
     "execution_count": 8,
     "metadata": {},
     "output_type": "execute_result"
    }
   ],
   "source": [
    "poisson.pmf(k=5,mu=10)"
   ]
  },
  {
   "cell_type": "markdown",
   "id": "e6e83308-f9fb-4b64-8d1a-7df60382dd51",
   "metadata": {},
   "source": [
    "Bank customers arrive randomly on weekday afternoons at an average of 3.2 customers every 4 minutes What is the probability of having more than 7 customers in a 4-minute interval on a weekdey afternoon?"
   ]
  },
  {
   "cell_type": "code",
   "execution_count": 9,
   "id": "769113a0-4b43-4ffd-b5d1-1214dd6462c3",
   "metadata": {},
   "outputs": [],
   "source": [
    "prob=poisson.cdf(7,3.2)"
   ]
  },
  {
   "cell_type": "code",
   "execution_count": 10,
   "id": "dfe2e7a8-96bb-4b5a-ab35-281942a0d441",
   "metadata": {},
   "outputs": [],
   "source": [
    "prob_more_than_7=1-prob"
   ]
  },
  {
   "cell_type": "code",
   "execution_count": 11,
   "id": "7734121f-bd06-448c-a680-51d095eee498",
   "metadata": {},
   "outputs": [
    {
     "data": {
      "text/plain": [
       "0.01682984174895752"
      ]
     },
     "execution_count": 11,
     "metadata": {},
     "output_type": "execute_result"
    }
   ],
   "source": [
    "prob_more_than_7"
   ]
  },
  {
   "cell_type": "markdown",
   "id": "56357f22-7f88-4439-a0eb-c84fc924f43b",
   "metadata": {},
   "source": [
    "A bank has an average random arrival rate of 3.2 customers every 4 minutes What is the probability of getting exactly 10 customers during an 8-minute interval?\n",
    "\f"
   ]
  },
  {
   "cell_type": "code",
   "execution_count": 12,
   "id": "f9752244-81b6-47ee-b5cb-65e3765d4d6e",
   "metadata": {},
   "outputs": [
    {
     "data": {
      "text/plain": [
       "0.052790043854115495"
      ]
     },
     "execution_count": 12,
     "metadata": {},
     "output_type": "execute_result"
    }
   ],
   "source": [
    "# lambda= 3.2/4 mins Hence 6.4/8 mins\n",
    "poisson.pmf(10,6.4)"
   ]
  },
  {
   "cell_type": "markdown",
   "id": "744f954e-4c87-4d40-8002-88efeb4b0abd",
   "metadata": {},
   "source": [
    "### Uniform Distribution"
   ]
  },
  {
   "cell_type": "markdown",
   "id": "cad8974e-c148-41e5-a6c2-dc5d166432b6",
   "metadata": {},
   "source": [
    "Suppose the amount of time it takes to assemble a plastic module ranges from 27 to 39 seconds and that the distribution. What is the probability that a given assembly will take between 30 and 35 seconds?"
   ]
  },
  {
   "cell_type": "code",
   "execution_count": 13,
   "id": "8d4f8d3b-5a7b-456f-a855-f99180b386ba",
   "metadata": {},
   "outputs": [
    {
     "data": {
      "text/plain": [
       "array([27, 28, 29, 30, 31, 32, 33, 34, 35, 36, 37, 38, 39])"
      ]
     },
     "execution_count": 13,
     "metadata": {},
     "output_type": "execute_result"
    }
   ],
   "source": [
    "U=np.arange(27,40,1)\n",
    "U"
   ]
  },
  {
   "cell_type": "code",
   "execution_count": 14,
   "id": "6176ce2a-3c24-49f1-a569-f6b5d1f9c52f",
   "metadata": {},
   "outputs": [
    {
     "data": {
      "text/plain": [
       "33.0"
      ]
     },
     "execution_count": 14,
     "metadata": {},
     "output_type": "execute_result"
    }
   ],
   "source": [
    "from scipy.stats import uniform\n",
    "uniform.mean(loc=27,scale=12)"
   ]
  },
  {
   "cell_type": "code",
   "execution_count": 17,
   "id": "acb12dea-bd92-4c00-8802-09a407a6707f",
   "metadata": {},
   "outputs": [
    {
     "data": {
      "text/plain": [
       "0.25"
      ]
     },
     "execution_count": 17,
     "metadata": {},
     "output_type": "execute_result"
    }
   ],
   "source": [
    "uniform.cdf(30, loc=27,scale=12)"
   ]
  },
  {
   "cell_type": "code",
   "execution_count": 15,
   "id": "b9635889-32c1-46e4-8828-1be5fa0fdd7a",
   "metadata": {},
   "outputs": [
    {
     "data": {
      "text/plain": [
       "array([0.25      , 0.33333333, 0.41666667, 0.5       , 0.58333333,\n",
       "       0.66666667])"
      ]
     },
     "execution_count": 15,
     "metadata": {},
     "output_type": "execute_result"
    }
   ],
   "source": [
    "uniform.cdf(np.arange(30,36,1), loc=27,scale=12)"
   ]
  },
  {
   "cell_type": "code",
   "execution_count": 19,
   "id": "b3794000-e4fd-4e60-974d-2715be335d21",
   "metadata": {},
   "outputs": [
    {
     "name": "stdout",
     "output_type": "stream",
     "text": [
      "0.33333333333333337\n"
     ]
    }
   ],
   "source": [
    "print(np.abs(uniform.cdf(30, loc=27,scale=12)-uniform.cdf(34, loc=27,scale=12)))"
   ]
  },
  {
   "cell_type": "markdown",
   "id": "aa8e428d-6ef5-4dac-b6b8-1c763e03bee2",
   "metadata": {},
   "source": [
    "According to the National Association of Insurance Commissioners, the average annual cost for automobile insurance in the\n",
    "United States in a recent year was $ 691. Suppose automobile insurance costs are uniformly distributed in the United States\n",
    "with a range of from $200 £0 $1,182. What is the standard deviation of this uniforn distribution?\n",
    "\f"
   ]
  },
  {
   "cell_type": "code",
   "execution_count": 20,
   "id": "ebce46bd-bc59-4b23-8b16-54dedd5a3c3b",
   "metadata": {},
   "outputs": [
    {
     "data": {
      "text/plain": [
       "691.0"
      ]
     },
     "execution_count": 20,
     "metadata": {},
     "output_type": "execute_result"
    }
   ],
   "source": [
    "uniform.mean(loc=200, scale=982)"
   ]
  },
  {
   "cell_type": "code",
   "execution_count": 21,
   "id": "a284e845-a5ef-4d48-990b-7c96616668d8",
   "metadata": {},
   "outputs": [
    {
     "data": {
      "text/plain": [
       "283.4789821721062"
      ]
     },
     "execution_count": 21,
     "metadata": {},
     "output_type": "execute_result"
    }
   ],
   "source": [
    "uniform.std(loc=200, scale=982)"
   ]
  },
  {
   "cell_type": "markdown",
   "id": "0be79fe9-35c9-4bbe-9d49-fe00e78f8665",
   "metadata": {},
   "source": [
    "### Normal Distribution"
   ]
  },
  {
   "cell_type": "code",
   "execution_count": 25,
   "id": "8cbc8486-d25d-49a6-bfb1-7d38908e6978",
   "metadata": {},
   "outputs": [],
   "source": [
    "from scipy.stats import norm"
   ]
  },
  {
   "cell_type": "code",
   "execution_count": 26,
   "id": "e58e8eff-c5d3-4761-83e5-6a82d0310781",
   "metadata": {},
   "outputs": [],
   "source": [
    "val,m,s=68,65.5,2.5"
   ]
  },
  {
   "cell_type": "code",
   "execution_count": 27,
   "id": "0f97bb29-5672-41d4-971d-91a9149eab12",
   "metadata": {},
   "outputs": [
    {
     "name": "stdout",
     "output_type": "stream",
     "text": [
      "0.8413447460685429\n"
     ]
    }
   ],
   "source": [
    "print(norm.cdf(val,m,s))"
   ]
  },
  {
   "cell_type": "markdown",
   "id": "d2800818-3a91-469e-a0be-8770770d9b18",
   "metadata": {},
   "source": [
    "CDF(x>val)"
   ]
  },
  {
   "cell_type": "code",
   "execution_count": 28,
   "id": "15307f45-9e8f-4247-b3bc-e31028556b45",
   "metadata": {},
   "outputs": [
    {
     "name": "stdout",
     "output_type": "stream",
     "text": [
      "0.15865525393145707\n"
     ]
    }
   ],
   "source": [
    "print(1-norm.cdf(val,m,s))"
   ]
  },
  {
   "cell_type": "markdown",
   "id": "8fde7738-5ac3-4726-83a6-3e3318dbaa3a",
   "metadata": {},
   "source": [
    "CDF (val1<x<val2)"
   ]
  },
  {
   "cell_type": "code",
   "execution_count": 29,
   "id": "b3b4ca29-5932-4174-8a53-5843b971c0e6",
   "metadata": {},
   "outputs": [
    {
     "name": "stdout",
     "output_type": "stream",
     "text": [
      "0.6826894921370859\n"
     ]
    }
   ],
   "source": [
    "print(norm.cdf(val,m,s)-norm.cdf(63,m,s))"
   ]
  },
  {
   "cell_type": "markdown",
   "id": "6a5dfc35-ef92-4001-bbe7-8e976f029cb5",
   "metadata": {},
   "source": [
    "What is the probability of obtaining a score greater than 700 on a GMAT test that has a mean of 494 and a standard deviation of 100?\n",
    "Assume GMAT scores are normally distributed\n",
    " \n",
    "P(x > 700| m= 494 and s=100)=?"
   ]
  },
  {
   "cell_type": "code",
   "execution_count": 30,
   "id": "e4f0789f-56e4-45fb-a203-a5572e575771",
   "metadata": {},
   "outputs": [
    {
     "name": "stdout",
     "output_type": "stream",
     "text": [
      "0.019699270409376912\n"
     ]
    }
   ],
   "source": [
    "print(1-norm.cdf(700,494,100))"
   ]
  },
  {
   "cell_type": "markdown",
   "id": "d5566fc8-b720-43d7-864c-53fdaceff298",
   "metadata": {},
   "source": [
    "For the same GMAT examination, what is the probabilty of randomly drawing a score that is 550 or less?\n",
    "\f"
   ]
  },
  {
   "cell_type": "code",
   "execution_count": 31,
   "id": "6906e738-faa0-477b-a025-4e18af5c1338",
   "metadata": {},
   "outputs": [
    {
     "name": "stdout",
     "output_type": "stream",
     "text": [
      "0.712260281150973\n"
     ]
    }
   ],
   "source": [
    "print(norm.cdf(550,494,100))"
   ]
  },
  {
   "cell_type": "markdown",
   "id": "25069994-b90c-4055-9880-7fc1dec94603",
   "metadata": {},
   "source": [
    "Whats the probability of randomly obtaining a score between 300 and 600 on the GMAT exam?\n",
    "\f"
   ]
  },
  {
   "cell_type": "code",
   "execution_count": 32,
   "id": "3bc80b8c-6e38-4f5a-bff9-0afff4eb3d9d",
   "metadata": {},
   "outputs": [
    {
     "name": "stdout",
     "output_type": "stream",
     "text": [
      "0.8292378553956377\n"
     ]
    }
   ],
   "source": [
    "print(norm.cdf(600,494,100)-norm.cdf(300,494,100))"
   ]
  },
  {
   "cell_type": "markdown",
   "id": "648cbc4c-e0b8-4d7b-9df4-8075e978a0df",
   "metadata": {},
   "source": [
    "Whats the probability of randomly obtaining a score between 350 and 450 on the GMAT exam?\n",
    "\f"
   ]
  },
  {
   "cell_type": "code",
   "execution_count": 33,
   "id": "b64be39e-c164-4932-8762-9e5bc72a6055",
   "metadata": {},
   "outputs": [
    {
     "name": "stdout",
     "output_type": "stream",
     "text": [
      "0.2550348541262666\n"
     ]
    }
   ],
   "source": [
    "print(norm.cdf(450,494,100)-norm.cdf(350,494,100))"
   ]
  },
  {
   "cell_type": "code",
   "execution_count": 34,
   "id": "80f1389b-9c2c-48e2-b4c5-5a65c038e28e",
   "metadata": {},
   "outputs": [
    {
     "data": {
      "text/plain": [
       "1.6448536269514722"
      ]
     },
     "execution_count": 34,
     "metadata": {},
     "output_type": "execute_result"
    }
   ],
   "source": [
    "norm.ppf(0.95)"
   ]
  },
  {
   "cell_type": "code",
   "execution_count": 35,
   "id": "93acdf76-40aa-40ce-a165-77c8436d6260",
   "metadata": {},
   "outputs": [
    {
     "data": {
      "text/plain": [
       "-0.45988328292440145"
      ]
     },
     "execution_count": 35,
     "metadata": {},
     "output_type": "execute_result"
    }
   ],
   "source": [
    "norm.ppf(1-.6772)"
   ]
  },
  {
   "cell_type": "markdown",
   "id": "4242a43a-c447-4ef0-95d9-9719877481db",
   "metadata": {},
   "source": [
    "### Hypergeometric Distribution example"
   ]
  },
  {
   "cell_type": "markdown",
   "id": "a5c0cf20-aee2-4539-935b-94f59060898e",
   "metadata": {},
   "source": [
    "Suppose 18 major computer companies operate in the United States and that 12 are located in California's Silicon Valley If three computer companies are selected randomly from the entire is, what is the probabilty that one or more of the selected companies are located in the Silicon Valley?\n",
    "\f"
   ]
  },
  {
   "cell_type": "markdown",
   "id": "51842d64-aded-48bf-a4d0-46957957e4e1",
   "metadata": {},
   "source": [
    "###### N=18\n",
    "###### A=12\n",
    "###### n=3\n",
    "###### x>=1"
   ]
  },
  {
   "cell_type": "code",
   "execution_count": 37,
   "id": "5e48777b-9289-48ac-a99f-48dc215efd82",
   "metadata": {},
   "outputs": [],
   "source": [
    "from scipy.stats import hypergeom\n",
    "pval=hypergeom.sf(0,18,3,12) #sf=1-cdf"
   ]
  },
  {
   "cell_type": "code",
   "execution_count": 38,
   "id": "2c8f7460-a640-42cb-9af6-b4cb4765b071",
   "metadata": {},
   "outputs": [
    {
     "name": "stdout",
     "output_type": "stream",
     "text": [
      "0.9754901960784313\n"
     ]
    }
   ],
   "source": [
    "print(pval)"
   ]
  },
  {
   "cell_type": "markdown",
   "id": "0d807e07-9444-4ca9-9c87-08a26e282c85",
   "metadata": {},
   "source": [
    "Awestern city has 18 police officers eligibie for promotion. Eleven of the 18 are Hispanic. Suppose only five of the police officers are chosen for promotion. If\n",
    "the officers chosen for promotion had been selected by chance alone, what isthe probabilty that one or fewer ofthe five promoted officers would have been\n",
    "Hispanic? \n",
    "\f"
   ]
  },
  {
   "cell_type": "markdown",
   "id": "852e2a03-9502-4ce7-8549-e18e44ac69e4",
   "metadata": {},
   "source": [
    "###### N=18\n",
    "###### A=11\n",
    "###### n=5\n",
    "###### x<=1"
   ]
  },
  {
   "cell_type": "code",
   "execution_count": 39,
   "id": "95f57dec-3018-4ff4-a41c-e2eb059ea7a9",
   "metadata": {},
   "outputs": [
    {
     "name": "stdout",
     "output_type": "stream",
     "text": [
      "0.04738562091503268\n"
     ]
    }
   ],
   "source": [
    "pval=hypergeom.cdf(1,18,5,11)\n",
    "print(pval)"
   ]
  },
  {
   "cell_type": "markdown",
   "id": "16c37321-bba7-4c34-81ea-8ced84be7fd1",
   "metadata": {},
   "source": [
    "### Exponential Distribution Example"
   ]
  },
  {
   "cell_type": "markdown",
   "id": "02f902bc-b763-47ea-8d43-fc974a56c24b",
   "metadata": {},
   "source": [
    "A manufacturing firm has been involved in statistical quality contro for several years. As part of the production process, parts are randomly selected and\n",
    "tested. From the records of these tests, thas been established that a detective part occurs ina pattern that is Poisson distnibuted on the average of 1.38\n",
    "detects every 20 minutes during production runs, Use this information to determine the probabilty that less than 15 minutes will elapse between any two\n",
    "detects?"
   ]
  },
  {
   "cell_type": "code",
   "execution_count": 41,
   "id": "985e9918-ce28-4fdf-bcff-6c1f575c76d3",
   "metadata": {},
   "outputs": [
    {
     "data": {
      "text/plain": [
       "0.7246376811594204"
      ]
     },
     "execution_count": 41,
     "metadata": {},
     "output_type": "execute_result"
    }
   ],
   "source": [
    "mu1=1/1.38 # for 20 mins\n",
    "mu1"
   ]
  },
  {
   "cell_type": "code",
   "execution_count": 42,
   "id": "4b6a95bc-0b26-425c-a0b8-cad586ab2439",
   "metadata": {},
   "outputs": [
    {
     "data": {
      "text/plain": [
       "0.6447736190750485"
      ]
     },
     "execution_count": 42,
     "metadata": {},
     "output_type": "execute_result"
    }
   ],
   "source": [
    "from scipy.stats import expon\n",
    "expon.cdf(0.75,0,(1/1.38)) # 15/20=0.75, loc=0 because y=(x-loc)/scale and y=x/scale"
   ]
  },
  {
   "cell_type": "code",
   "execution_count": null,
   "id": "75cadb3f-8837-4f1f-8f04-657c0181fb1b",
   "metadata": {},
   "outputs": [],
   "source": []
  }
 ],
 "metadata": {
  "kernelspec": {
   "display_name": "Python 3 (ipykernel)",
   "language": "python",
   "name": "python3"
  },
  "language_info": {
   "codemirror_mode": {
    "name": "ipython",
    "version": 3
   },
   "file_extension": ".py",
   "mimetype": "text/x-python",
   "name": "python",
   "nbconvert_exporter": "python",
   "pygments_lexer": "ipython3",
   "version": "3.10.12"
  }
 },
 "nbformat": 4,
 "nbformat_minor": 5
}

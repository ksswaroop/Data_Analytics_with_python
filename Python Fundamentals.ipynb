{
 "cells": [
  {
   "cell_type": "code",
   "execution_count": 3,
   "id": "e29fd81a-452a-4e5b-a803-2aae554a1354",
   "metadata": {},
   "outputs": [],
   "source": [
    "import pandas as pd\n",
    "import numpy as np\n",
    "import matplotlib.pyplot as plt"
   ]
  },
  {
   "cell_type": "markdown",
   "id": "ec22a544-2866-4b9f-b718-dacda6a2f73d",
   "metadata": {},
   "source": [
    "## Reading dataset"
   ]
  },
  {
   "cell_type": "code",
   "execution_count": 4,
   "id": "44311634-82e2-42c0-ba92-a39371bb1f80",
   "metadata": {},
   "outputs": [],
   "source": [
    "df=pd.read_csv('/home/swaroop/Documents/Coding/Data_Analytics_with_python/Datasets/gapminder-FiveYearData.csv')"
   ]
  },
  {
   "cell_type": "code",
   "execution_count": 9,
   "id": "c7e12d9a-affe-4fd0-b9ca-1a9ac402622f",
   "metadata": {},
   "outputs": [
    {
     "name": "stdout",
     "output_type": "stream",
     "text": [
      "             year           pop      lifeExp      gdpPercap\n",
      "count  1704.00000  1.704000e+03  1704.000000    1704.000000\n",
      "mean   1979.50000  2.960121e+07    59.474439    7215.327081\n",
      "std      17.26533  1.061579e+08    12.917107    9857.454543\n",
      "min    1952.00000  6.001100e+04    23.599000     241.165876\n",
      "25%    1965.75000  2.793664e+06    48.198000    1202.060309\n",
      "50%    1979.50000  7.023596e+06    60.712500    3531.846988\n",
      "75%    1993.25000  1.958522e+07    70.845500    9325.462346\n",
      "max    2007.00000  1.318683e+09    82.603000  113523.132900\n"
     ]
    }
   ],
   "source": [
    "print(df.describe())"
   ]
  },
  {
   "cell_type": "code",
   "execution_count": 14,
   "id": "39d04d22-4e26-4779-81cf-b6cf627c10cf",
   "metadata": {},
   "outputs": [
    {
     "name": "stdout",
     "output_type": "stream",
     "text": [
      "(1704, 6)\n"
     ]
    }
   ],
   "source": [
    "print(df.shape)"
   ]
  },
  {
   "cell_type": "code",
   "execution_count": 8,
   "id": "937bba6e-1cc1-4463-9fc5-15d647145ac9",
   "metadata": {},
   "outputs": [
    {
     "name": "stdout",
     "output_type": "stream",
     "text": [
      "       country  year         pop continent  lifeExp   gdpPercap\n",
      "0  Afghanistan  1952   8425333.0      Asia   28.801  779.445314\n",
      "1  Afghanistan  1957   9240934.0      Asia   30.332  820.853030\n",
      "2  Afghanistan  1962  10267083.0      Asia   31.997  853.100710\n",
      "3  Afghanistan  1967  11537966.0      Asia   34.020  836.197138\n",
      "4  Afghanistan  1972  13079460.0      Asia   36.088  739.981106\n"
     ]
    }
   ],
   "source": [
    "print(df.head())"
   ]
  },
  {
   "cell_type": "code",
   "execution_count": 12,
   "id": "514e4e5d-3a4a-4aab-bbda-b2bee5f1d4de",
   "metadata": {},
   "outputs": [
    {
     "name": "stdout",
     "output_type": "stream",
     "text": [
      "continent\n",
      "Africa      624\n",
      "Asia        396\n",
      "Europe      360\n",
      "Americas    300\n",
      "Oceania      24\n",
      "Name: count, dtype: int64\n"
     ]
    }
   ],
   "source": [
    "print(df['continent'].value_counts())"
   ]
  },
  {
   "cell_type": "code",
   "execution_count": 15,
   "id": "73e47ced-3243-40e6-b448-57596140b83e",
   "metadata": {},
   "outputs": [
    {
     "name": "stdout",
     "output_type": "stream",
     "text": [
      "Index(['country', 'year', 'pop', 'continent', 'lifeExp', 'gdpPercap'], dtype='object')\n"
     ]
    }
   ],
   "source": [
    "print(df.columns)"
   ]
  },
  {
   "cell_type": "code",
   "execution_count": 16,
   "id": "1fb35225-35f2-4232-9acc-c416add86e0f",
   "metadata": {},
   "outputs": [
    {
     "name": "stdout",
     "output_type": "stream",
     "text": [
      "country       object\n",
      "year           int64\n",
      "pop          float64\n",
      "continent     object\n",
      "lifeExp      float64\n",
      "gdpPercap    float64\n",
      "dtype: object\n"
     ]
    }
   ],
   "source": [
    "print(df.dtypes)"
   ]
  },
  {
   "cell_type": "code",
   "execution_count": 17,
   "id": "60062a52-6950-4b3e-a9e6-f5edfc843a59",
   "metadata": {},
   "outputs": [
    {
     "name": "stdout",
     "output_type": "stream",
     "text": [
      "<class 'pandas.core.frame.DataFrame'>\n",
      "RangeIndex: 1704 entries, 0 to 1703\n",
      "Data columns (total 6 columns):\n",
      " #   Column     Non-Null Count  Dtype  \n",
      "---  ------     --------------  -----  \n",
      " 0   country    1704 non-null   object \n",
      " 1   year       1704 non-null   int64  \n",
      " 2   pop        1704 non-null   float64\n",
      " 3   continent  1704 non-null   object \n",
      " 4   lifeExp    1704 non-null   float64\n",
      " 5   gdpPercap  1704 non-null   float64\n",
      "dtypes: float64(3), int64(1), object(2)\n",
      "memory usage: 80.0+ KB\n",
      "None\n"
     ]
    }
   ],
   "source": [
    "print(df.info())"
   ]
  },
  {
   "cell_type": "code",
   "execution_count": 20,
   "id": "779d13b0-6fd8-4bdc-a3dc-77d205fae2a3",
   "metadata": {},
   "outputs": [
    {
     "data": {
      "text/plain": [
       "country      0\n",
       "year         0\n",
       "pop          0\n",
       "continent    0\n",
       "lifeExp      0\n",
       "gdpPercap    0\n",
       "dtype: int64"
      ]
     },
     "execution_count": 20,
     "metadata": {},
     "output_type": "execute_result"
    }
   ],
   "source": [
    "df.isna().sum()"
   ]
  },
  {
   "cell_type": "code",
   "execution_count": 21,
   "id": "ced0ef55-3259-439d-bd09-b2fbcdae5a2e",
   "metadata": {},
   "outputs": [
    {
     "name": "stdout",
     "output_type": "stream",
     "text": [
      "0       Afghanistan\n",
      "1       Afghanistan\n",
      "2       Afghanistan\n",
      "3       Afghanistan\n",
      "4       Afghanistan\n",
      "           ...     \n",
      "1699       Zimbabwe\n",
      "1700       Zimbabwe\n",
      "1701       Zimbabwe\n",
      "1702       Zimbabwe\n",
      "1703       Zimbabwe\n",
      "Name: country, Length: 1704, dtype: object\n"
     ]
    }
   ],
   "source": [
    "print(df['country'])"
   ]
  },
  {
   "cell_type": "code",
   "execution_count": 22,
   "id": "17780abf-cef3-490b-addd-90037de1f009",
   "metadata": {},
   "outputs": [],
   "source": [
    "country_df=df['country']"
   ]
  },
  {
   "cell_type": "code",
   "execution_count": 24,
   "id": "03d4a2fe-6668-445e-8137-8c9ead02592c",
   "metadata": {},
   "outputs": [
    {
     "name": "stdout",
     "output_type": "stream",
     "text": [
      "0       Afghanistan\n",
      "1       Afghanistan\n",
      "2       Afghanistan\n",
      "3       Afghanistan\n",
      "4       Afghanistan\n",
      "           ...     \n",
      "1699       Zimbabwe\n",
      "1700       Zimbabwe\n",
      "1701       Zimbabwe\n",
      "1702       Zimbabwe\n",
      "1703       Zimbabwe\n",
      "Name: country, Length: 1704, dtype: object\n"
     ]
    }
   ],
   "source": [
    "print(country_df)"
   ]
  },
  {
   "cell_type": "code",
   "execution_count": 25,
   "id": "5985e870-00c7-48bc-9892-33cf3a421492",
   "metadata": {},
   "outputs": [
    {
     "data": {
      "text/plain": [
       "0    Afghanistan\n",
       "1    Afghanistan\n",
       "2    Afghanistan\n",
       "3    Afghanistan\n",
       "4    Afghanistan\n",
       "Name: country, dtype: object"
      ]
     },
     "execution_count": 25,
     "metadata": {},
     "output_type": "execute_result"
    }
   ],
   "source": [
    "country_df.head()"
   ]
  },
  {
   "cell_type": "code",
   "execution_count": 27,
   "id": "73e67875-f8b1-4a45-bdae-60aaba716fbe",
   "metadata": {},
   "outputs": [
    {
     "name": "stdout",
     "output_type": "stream",
     "text": [
      "0    Afghanistan\n",
      "1    Afghanistan\n",
      "2    Afghanistan\n",
      "3    Afghanistan\n",
      "4    Afghanistan\n",
      "Name: country, dtype: object\n"
     ]
    }
   ],
   "source": [
    "print(df['country'].head())"
   ]
  },
  {
   "cell_type": "code",
   "execution_count": 28,
   "id": "bb66d1e8-356a-4fe8-9193-4db9d62defac",
   "metadata": {},
   "outputs": [
    {
     "name": "stdout",
     "output_type": "stream",
     "text": [
      "1699    Zimbabwe\n",
      "1700    Zimbabwe\n",
      "1701    Zimbabwe\n",
      "1702    Zimbabwe\n",
      "1703    Zimbabwe\n",
      "Name: country, dtype: object\n"
     ]
    }
   ],
   "source": [
    "print(df['country'].tail())"
   ]
  },
  {
   "cell_type": "code",
   "execution_count": 29,
   "id": "364f6e71-13ca-494c-b048-df765e57e12f",
   "metadata": {},
   "outputs": [
    {
     "name": "stdout",
     "output_type": "stream",
     "text": [
      "          country  year         pop\n",
      "0     Afghanistan  1952   8425333.0\n",
      "1     Afghanistan  1957   9240934.0\n",
      "2     Afghanistan  1962  10267083.0\n",
      "3     Afghanistan  1967  11537966.0\n",
      "4     Afghanistan  1972  13079460.0\n",
      "...           ...   ...         ...\n",
      "1699     Zimbabwe  1987   9216418.0\n",
      "1700     Zimbabwe  1992  10704340.0\n",
      "1701     Zimbabwe  1997  11404948.0\n",
      "1702     Zimbabwe  2002  11926563.0\n",
      "1703     Zimbabwe  2007  12311143.0\n",
      "\n",
      "[1704 rows x 3 columns]\n"
     ]
    }
   ],
   "source": [
    "print(df[['country','year','pop']])"
   ]
  },
  {
   "cell_type": "code",
   "execution_count": 30,
   "id": "b2f4c078-219a-47cf-8b40-76732228ec67",
   "metadata": {},
   "outputs": [
    {
     "name": "stdout",
     "output_type": "stream",
     "text": [
      "       country  year         pop\n",
      "0  Afghanistan  1952   8425333.0\n",
      "1  Afghanistan  1957   9240934.0\n",
      "2  Afghanistan  1962  10267083.0\n",
      "3  Afghanistan  1967  11537966.0\n",
      "4  Afghanistan  1972  13079460.0\n"
     ]
    }
   ],
   "source": [
    "print(df[['country','year','pop']].head())"
   ]
  },
  {
   "cell_type": "code",
   "execution_count": 32,
   "id": "122e196f-032d-43df-af82-be146eea2b24",
   "metadata": {},
   "outputs": [
    {
     "name": "stdout",
     "output_type": "stream",
     "text": [
      "country      Afghanistan\n",
      "year                1952\n",
      "pop            8425333.0\n",
      "continent           Asia\n",
      "lifeExp           28.801\n",
      "gdpPercap     779.445314\n",
      "Name: 0, dtype: object\n"
     ]
    }
   ],
   "source": [
    "print(df.loc[0])"
   ]
  },
  {
   "cell_type": "code",
   "execution_count": 33,
   "id": "c0a2e1c2-35c9-4cac-a3c6-9c5c92243840",
   "metadata": {},
   "outputs": [
    {
     "name": "stdout",
     "output_type": "stream",
     "text": [
      "country      Bangladesh\n",
      "year               1967\n",
      "pop          62821884.0\n",
      "continent          Asia\n",
      "lifeExp          43.453\n",
      "gdpPercap    721.186086\n",
      "Name: 99, dtype: object\n"
     ]
    }
   ],
   "source": [
    "print(df.loc[99])"
   ]
  },
  {
   "cell_type": "code",
   "execution_count": 40,
   "id": "309deded-7ba8-44fa-9029-31ac95ec8eab",
   "metadata": {},
   "outputs": [
    {
     "name": "stdout",
     "output_type": "stream",
     "text": [
      "       country  year         pop continent  lifeExp   gdpPercap\n",
      "0  Afghanistan  1952   8425333.0      Asia   28.801  779.445314\n",
      "1  Afghanistan  1957   9240934.0      Asia   30.332  820.853030\n",
      "2  Afghanistan  1962  10267083.0      Asia   31.997  853.100710\n",
      "3  Afghanistan  1967  11537966.0      Asia   34.020  836.197138\n"
     ]
    }
   ],
   "source": [
    "print(df[0:4])"
   ]
  },
  {
   "cell_type": "code",
   "execution_count": 46,
   "id": "ad58b06c-b111-4573-ab26-057da30ee622",
   "metadata": {},
   "outputs": [
    {
     "name": "stdout",
     "output_type": "stream",
     "text": [
      "       country  year         pop continent  lifeExp   gdpPercap\n",
      "0  Afghanistan  1952   8425333.0      Asia   28.801  779.445314\n",
      "3  Afghanistan  1967  11537966.0      Asia   34.020  836.197138\n",
      "4  Afghanistan  1972  13079460.0      Asia   36.088  739.981106\n"
     ]
    }
   ],
   "source": [
    "print(df.loc[[0,3,4]])"
   ]
  },
  {
   "cell_type": "code",
   "execution_count": 48,
   "id": "85d32278-f3c6-4e4c-9d20-3e37dba0cb3d",
   "metadata": {},
   "outputs": [
    {
     "name": "stdout",
     "output_type": "stream",
     "text": [
      "country      Afghanistan\n",
      "year                1957\n",
      "pop            9240934.0\n",
      "continent           Asia\n",
      "lifeExp           30.332\n",
      "gdpPercap      820.85303\n",
      "Name: 1, dtype: object\n"
     ]
    }
   ],
   "source": [
    "print(df.iloc[1])"
   ]
  },
  {
   "cell_type": "code",
   "execution_count": 49,
   "id": "e4ce577e-4d32-44f3-baf9-98b6c7b43a57",
   "metadata": {},
   "outputs": [
    {
     "name": "stdout",
     "output_type": "stream",
     "text": [
      "country        Zimbabwe\n",
      "year               2007\n",
      "pop          12311143.0\n",
      "continent        Africa\n",
      "lifeExp          43.487\n",
      "gdpPercap    469.709298\n",
      "Name: 1703, dtype: object\n"
     ]
    }
   ],
   "source": [
    "print(df.iloc[-1])"
   ]
  },
  {
   "cell_type": "code",
   "execution_count": 52,
   "id": "f954bfde-590e-4e27-9b6b-305b99f29b9c",
   "metadata": {},
   "outputs": [
    {
     "name": "stdout",
     "output_type": "stream",
     "text": [
      "      year         pop\n",
      "0     1952   8425333.0\n",
      "1     1957   9240934.0\n",
      "2     1962  10267083.0\n",
      "3     1967  11537966.0\n",
      "4     1972  13079460.0\n",
      "...    ...         ...\n",
      "1699  1987   9216418.0\n",
      "1700  1992  10704340.0\n",
      "1701  1997  11404948.0\n",
      "1702  2002  11926563.0\n",
      "1703  2007  12311143.0\n",
      "\n",
      "[1704 rows x 2 columns]\n"
     ]
    }
   ],
   "source": [
    "print(df.loc[:,['year','pop']])"
   ]
  },
  {
   "cell_type": "code",
   "execution_count": 53,
   "id": "6d81307b-fe12-4474-a109-951204324931",
   "metadata": {},
   "outputs": [
    {
     "name": "stdout",
     "output_type": "stream",
     "text": [
      "      year         pop  lifeExp\n",
      "0     1952   8425333.0   28.801\n",
      "1     1957   9240934.0   30.332\n",
      "2     1962  10267083.0   31.997\n",
      "3     1967  11537966.0   34.020\n",
      "4     1972  13079460.0   36.088\n",
      "...    ...         ...      ...\n",
      "1699  1987   9216418.0   62.351\n",
      "1700  1992  10704340.0   60.377\n",
      "1701  1997  11404948.0   46.809\n",
      "1702  2002  11926563.0   39.989\n",
      "1703  2007  12311143.0   43.487\n",
      "\n",
      "[1704 rows x 3 columns]\n"
     ]
    }
   ],
   "source": [
    "print(df.iloc[:,[1,2,4]])"
   ]
  },
  {
   "cell_type": "code",
   "execution_count": 55,
   "id": "6bc0d864-c8f7-449d-9307-c4d0aa555d8d",
   "metadata": {},
   "outputs": [
    {
     "data": {
      "text/html": [
       "<div>\n",
       "<style scoped>\n",
       "    .dataframe tbody tr th:only-of-type {\n",
       "        vertical-align: middle;\n",
       "    }\n",
       "\n",
       "    .dataframe tbody tr th {\n",
       "        vertical-align: top;\n",
       "    }\n",
       "\n",
       "    .dataframe thead th {\n",
       "        text-align: right;\n",
       "    }\n",
       "</style>\n",
       "<table border=\"1\" class=\"dataframe\">\n",
       "  <thead>\n",
       "    <tr style=\"text-align: right;\">\n",
       "      <th></th>\n",
       "      <th>gdpPercap</th>\n",
       "      <th>pop</th>\n",
       "      <th>lifeExp</th>\n",
       "    </tr>\n",
       "  </thead>\n",
       "  <tbody>\n",
       "    <tr>\n",
       "      <th>0</th>\n",
       "      <td>779.445314</td>\n",
       "      <td>8425333.0</td>\n",
       "      <td>28.801</td>\n",
       "    </tr>\n",
       "    <tr>\n",
       "      <th>1</th>\n",
       "      <td>820.853030</td>\n",
       "      <td>9240934.0</td>\n",
       "      <td>30.332</td>\n",
       "    </tr>\n",
       "    <tr>\n",
       "      <th>2</th>\n",
       "      <td>853.100710</td>\n",
       "      <td>10267083.0</td>\n",
       "      <td>31.997</td>\n",
       "    </tr>\n",
       "    <tr>\n",
       "      <th>3</th>\n",
       "      <td>836.197138</td>\n",
       "      <td>11537966.0</td>\n",
       "      <td>34.020</td>\n",
       "    </tr>\n",
       "    <tr>\n",
       "      <th>4</th>\n",
       "      <td>739.981106</td>\n",
       "      <td>13079460.0</td>\n",
       "      <td>36.088</td>\n",
       "    </tr>\n",
       "    <tr>\n",
       "      <th>...</th>\n",
       "      <td>...</td>\n",
       "      <td>...</td>\n",
       "      <td>...</td>\n",
       "    </tr>\n",
       "    <tr>\n",
       "      <th>1699</th>\n",
       "      <td>706.157306</td>\n",
       "      <td>9216418.0</td>\n",
       "      <td>62.351</td>\n",
       "    </tr>\n",
       "    <tr>\n",
       "      <th>1700</th>\n",
       "      <td>693.420786</td>\n",
       "      <td>10704340.0</td>\n",
       "      <td>60.377</td>\n",
       "    </tr>\n",
       "    <tr>\n",
       "      <th>1701</th>\n",
       "      <td>792.449960</td>\n",
       "      <td>11404948.0</td>\n",
       "      <td>46.809</td>\n",
       "    </tr>\n",
       "    <tr>\n",
       "      <th>1702</th>\n",
       "      <td>672.038623</td>\n",
       "      <td>11926563.0</td>\n",
       "      <td>39.989</td>\n",
       "    </tr>\n",
       "    <tr>\n",
       "      <th>1703</th>\n",
       "      <td>469.709298</td>\n",
       "      <td>12311143.0</td>\n",
       "      <td>43.487</td>\n",
       "    </tr>\n",
       "  </tbody>\n",
       "</table>\n",
       "<p>1704 rows × 3 columns</p>\n",
       "</div>"
      ],
      "text/plain": [
       "       gdpPercap         pop  lifeExp\n",
       "0     779.445314   8425333.0   28.801\n",
       "1     820.853030   9240934.0   30.332\n",
       "2     853.100710  10267083.0   31.997\n",
       "3     836.197138  11537966.0   34.020\n",
       "4     739.981106  13079460.0   36.088\n",
       "...          ...         ...      ...\n",
       "1699  706.157306   9216418.0   62.351\n",
       "1700  693.420786  10704340.0   60.377\n",
       "1701  792.449960  11404948.0   46.809\n",
       "1702  672.038623  11926563.0   39.989\n",
       "1703  469.709298  12311143.0   43.487\n",
       "\n",
       "[1704 rows x 3 columns]"
      ]
     },
     "execution_count": 55,
     "metadata": {},
     "output_type": "execute_result"
    }
   ],
   "source": [
    "df.iloc[:,[-1,2,4]]"
   ]
  },
  {
   "cell_type": "code",
   "execution_count": 57,
   "id": "dbb99a0f-14a6-4c52-bc13-8b168247b3d0",
   "metadata": {},
   "outputs": [
    {
     "name": "stdout",
     "output_type": "stream",
     "text": [
      "          country  year         pop\n",
      "0     Afghanistan  1952   8425333.0\n",
      "1     Afghanistan  1957   9240934.0\n",
      "2     Afghanistan  1962  10267083.0\n",
      "3     Afghanistan  1967  11537966.0\n",
      "4     Afghanistan  1972  13079460.0\n",
      "...           ...   ...         ...\n",
      "1699     Zimbabwe  1987   9216418.0\n",
      "1700     Zimbabwe  1992  10704340.0\n",
      "1701     Zimbabwe  1997  11404948.0\n",
      "1702     Zimbabwe  2002  11926563.0\n",
      "1703     Zimbabwe  2007  12311143.0\n",
      "\n",
      "[1704 rows x 3 columns]\n"
     ]
    }
   ],
   "source": [
    "print(df.iloc[:,range(3)])"
   ]
  },
  {
   "cell_type": "code",
   "execution_count": 59,
   "id": "2e6a341e-7d3b-4149-91b1-0c37bfd4195c",
   "metadata": {},
   "outputs": [
    {
     "name": "stdout",
     "output_type": "stream",
     "text": [
      "Angola\n"
     ]
    }
   ],
   "source": [
    "print(df.loc[42,'country'])"
   ]
  },
  {
   "cell_type": "code",
   "execution_count": 60,
   "id": "547c041e-9c3a-4d7f-af4e-b295a2537548",
   "metadata": {},
   "outputs": [
    {
     "name": "stdout",
     "output_type": "stream",
     "text": [
      "Angola\n"
     ]
    }
   ],
   "source": [
    "print(df.iloc[42,0])"
   ]
  },
  {
   "cell_type": "code",
   "execution_count": 62,
   "id": "5a4189ad-b490-4152-aabf-3b18588df765",
   "metadata": {},
   "outputs": [
    {
     "name": "stdout",
     "output_type": "stream",
     "text": [
      "     year continent  lifeExp\n",
      "1    1957      Asia   30.332\n",
      "99   1967      Asia   43.453\n",
      "999  1967      Asia   51.253\n"
     ]
    }
   ],
   "source": [
    "print(df.iloc[[1,99,999],[1,3,4]])"
   ]
  },
  {
   "cell_type": "code",
   "execution_count": 63,
   "id": "41a4379f-1cfd-4f15-b2e4-c667388802d8",
   "metadata": {},
   "outputs": [
    {
     "name": "stdout",
     "output_type": "stream",
     "text": [
      "        country  year        pop\n",
      "0   Afghanistan  1952  8425333.0\n",
      "12      Albania  1952  1282697.0\n",
      "42       Angola  1982  7016384.0\n"
     ]
    }
   ],
   "source": [
    "print(df.loc[[0,12,42],['country','year','pop']])"
   ]
  },
  {
   "cell_type": "code",
   "execution_count": 65,
   "id": "e8a1df0b-3ce4-4618-9c46-c85f026ef39c",
   "metadata": {},
   "outputs": [
    {
     "name": "stdout",
     "output_type": "stream",
     "text": [
      "    country  year         pop\n",
      "18  Albania  1982   2780097.0\n",
      "19  Albania  1987   3075321.0\n",
      "20  Albania  1992   3326498.0\n",
      "21  Albania  1997   3428038.0\n",
      "22  Albania  2002   3508512.0\n",
      "23  Albania  2007   3600523.0\n",
      "24  Algeria  1952   9279525.0\n",
      "25  Algeria  1957  10270856.0\n"
     ]
    }
   ],
   "source": [
    "print(df.loc[18:25,['country','year','pop']])"
   ]
  },
  {
   "cell_type": "code",
   "execution_count": 66,
   "id": "c7c293e8-d06e-4432-936b-5a44bf420619",
   "metadata": {},
   "outputs": [
    {
     "name": "stdout",
     "output_type": "stream",
     "text": [
      "       country  year         pop continent  lifeExp   gdpPercap\n",
      "0  Afghanistan  1952   8425333.0      Asia   28.801  779.445314\n",
      "1  Afghanistan  1957   9240934.0      Asia   30.332  820.853030\n",
      "2  Afghanistan  1962  10267083.0      Asia   31.997  853.100710\n",
      "3  Afghanistan  1967  11537966.0      Asia   34.020  836.197138\n",
      "4  Afghanistan  1972  13079460.0      Asia   36.088  739.981106\n",
      "5  Afghanistan  1977  14880372.0      Asia   38.438  786.113360\n",
      "6  Afghanistan  1982  12881816.0      Asia   39.854  978.011439\n",
      "7  Afghanistan  1987  13867957.0      Asia   40.822  852.395945\n",
      "8  Afghanistan  1992  16317921.0      Asia   41.674  649.341395\n",
      "9  Afghanistan  1997  22227415.0      Asia   41.763  635.341351\n"
     ]
    }
   ],
   "source": [
    "print(df.head(n=10))"
   ]
  },
  {
   "cell_type": "code",
   "execution_count": 67,
   "id": "d5ebf7ae-5b06-4d2e-a930-79b89b366c4e",
   "metadata": {},
   "outputs": [
    {
     "name": "stdout",
     "output_type": "stream",
     "text": [
      "year\n",
      "1952    49.057620\n",
      "1957    51.507401\n",
      "1962    53.609249\n",
      "1967    55.678290\n",
      "1972    57.647386\n",
      "1977    59.570157\n",
      "1982    61.533197\n",
      "1987    63.212613\n",
      "1992    64.160338\n",
      "1997    65.014676\n",
      "2002    65.694923\n",
      "2007    67.007423\n",
      "Name: lifeExp, dtype: float64\n"
     ]
    }
   ],
   "source": [
    "print(df.groupby('year')['lifeExp'].mean())"
   ]
  },
  {
   "cell_type": "code",
   "execution_count": 69,
   "id": "09345370-c230-42d3-b687-42a37129c112",
   "metadata": {},
   "outputs": [
    {
     "name": "stdout",
     "output_type": "stream",
     "text": [
      "year\n",
      "1952    142\n",
      "1957    142\n",
      "1962    142\n",
      "1967    142\n",
      "1972    142\n",
      "1977    142\n",
      "1982    142\n",
      "1987    142\n",
      "1992    142\n",
      "1997    142\n",
      "2002    142\n",
      "2007    142\n",
      "Name: lifeExp, dtype: int64\n"
     ]
    }
   ],
   "source": [
    "print(df.groupby('year')['lifeExp'].count())"
   ]
  },
  {
   "cell_type": "code",
   "execution_count": 73,
   "id": "d5547d06-e7eb-4795-a766-113d96506dfe",
   "metadata": {},
   "outputs": [],
   "source": [
    "multi_var=df.groupby(['year','continent'])[['lifeExp','gdpPercap']].mean()"
   ]
  },
  {
   "cell_type": "code",
   "execution_count": 74,
   "id": "d637896e-732d-41ee-81f2-e23addcd340b",
   "metadata": {},
   "outputs": [
    {
     "name": "stdout",
     "output_type": "stream",
     "text": [
      "                  lifeExp     gdpPercap\n",
      "year continent                         \n",
      "1952 Africa     39.135500   1252.572466\n",
      "     Americas   53.279840   4079.062552\n",
      "     Asia       46.314394   5195.484004\n",
      "     Europe     64.408500   5661.057435\n",
      "     Oceania    69.255000  10298.085650\n",
      "1957 Africa     41.266346   1385.236062\n",
      "     Americas   55.960280   4616.043733\n",
      "     Asia       49.318544   5787.732940\n",
      "     Europe     66.703067   6963.012816\n",
      "     Oceania    70.295000  11598.522455\n",
      "1962 Africa     43.319442   1598.078825\n",
      "     Americas   58.398760   4901.541870\n",
      "     Asia       51.563223   5729.369625\n",
      "     Europe     68.539233   8365.486814\n",
      "     Oceania    71.085000  12696.452430\n",
      "1967 Africa     45.334538   2050.363801\n",
      "     Americas   60.410920   5668.253496\n",
      "     Asia       54.663640   5971.173374\n",
      "     Europe     69.737600  10143.823757\n",
      "     Oceania    71.310000  14495.021790\n",
      "1972 Africa     47.450942   2339.615674\n",
      "     Americas   62.394920   6491.334139\n",
      "     Asia       57.319269   8187.468699\n",
      "     Europe     70.775033  12479.575246\n",
      "     Oceania    71.910000  16417.333380\n",
      "1977 Africa     49.580423   2585.938508\n",
      "     Americas   64.391560   7352.007126\n",
      "     Asia       59.610556   7791.314020\n",
      "     Europe     71.937767  14283.979110\n",
      "     Oceania    72.855000  17283.957605\n",
      "1982 Africa     51.592865   2481.592960\n",
      "     Americas   66.228840   7506.737088\n",
      "     Asia       62.617939   7434.135157\n",
      "     Europe     72.806400  15617.896551\n",
      "     Oceania    74.290000  18554.709840\n",
      "1987 Africa     53.344788   2282.668991\n",
      "     Americas   68.090720   7793.400261\n",
      "     Asia       64.851182   7608.226508\n",
      "     Europe     73.642167  17214.310727\n",
      "     Oceania    75.320000  20448.040160\n",
      "1992 Africa     53.629577   2281.810333\n",
      "     Americas   69.568360   8044.934406\n",
      "     Asia       66.537212   8639.690248\n",
      "     Europe     74.440100  17061.568084\n",
      "     Oceania    76.945000  20894.045885\n",
      "1997 Africa     53.598269   2378.759555\n",
      "     Americas   71.150480   8889.300863\n",
      "     Asia       68.020515   9834.093295\n",
      "     Europe     75.505167  19076.781802\n",
      "     Oceania    78.190000  24024.175170\n",
      "2002 Africa     53.325231   2599.385159\n",
      "     Americas   72.422040   9287.677107\n",
      "     Asia       69.233879  10174.090397\n",
      "     Europe     76.700600  21711.732422\n",
      "     Oceania    79.740000  26938.778040\n",
      "2007 Africa     54.806038   3089.032605\n",
      "     Americas   73.608120  11003.031625\n",
      "     Asia       70.728485  12473.026870\n",
      "     Europe     77.648600  25054.481636\n",
      "     Oceania    80.719500  29810.188275\n"
     ]
    }
   ],
   "source": [
    "print(multi_var)"
   ]
  },
  {
   "cell_type": "code",
   "execution_count": 75,
   "id": "e2585e16-3e8e-41f5-9645-37a991962c43",
   "metadata": {},
   "outputs": [],
   "source": [
    "flat=multi_var.reset_index()"
   ]
  },
  {
   "cell_type": "code",
   "execution_count": 76,
   "id": "a89a538c-1379-46ab-bc54-7258e2321e2d",
   "metadata": {},
   "outputs": [
    {
     "data": {
      "text/html": [
       "<div>\n",
       "<style scoped>\n",
       "    .dataframe tbody tr th:only-of-type {\n",
       "        vertical-align: middle;\n",
       "    }\n",
       "\n",
       "    .dataframe tbody tr th {\n",
       "        vertical-align: top;\n",
       "    }\n",
       "\n",
       "    .dataframe thead th {\n",
       "        text-align: right;\n",
       "    }\n",
       "</style>\n",
       "<table border=\"1\" class=\"dataframe\">\n",
       "  <thead>\n",
       "    <tr style=\"text-align: right;\">\n",
       "      <th></th>\n",
       "      <th>year</th>\n",
       "      <th>continent</th>\n",
       "      <th>lifeExp</th>\n",
       "      <th>gdpPercap</th>\n",
       "    </tr>\n",
       "  </thead>\n",
       "  <tbody>\n",
       "    <tr>\n",
       "      <th>0</th>\n",
       "      <td>1952</td>\n",
       "      <td>Africa</td>\n",
       "      <td>39.135500</td>\n",
       "      <td>1252.572466</td>\n",
       "    </tr>\n",
       "    <tr>\n",
       "      <th>1</th>\n",
       "      <td>1952</td>\n",
       "      <td>Americas</td>\n",
       "      <td>53.279840</td>\n",
       "      <td>4079.062552</td>\n",
       "    </tr>\n",
       "    <tr>\n",
       "      <th>2</th>\n",
       "      <td>1952</td>\n",
       "      <td>Asia</td>\n",
       "      <td>46.314394</td>\n",
       "      <td>5195.484004</td>\n",
       "    </tr>\n",
       "    <tr>\n",
       "      <th>3</th>\n",
       "      <td>1952</td>\n",
       "      <td>Europe</td>\n",
       "      <td>64.408500</td>\n",
       "      <td>5661.057435</td>\n",
       "    </tr>\n",
       "    <tr>\n",
       "      <th>4</th>\n",
       "      <td>1952</td>\n",
       "      <td>Oceania</td>\n",
       "      <td>69.255000</td>\n",
       "      <td>10298.085650</td>\n",
       "    </tr>\n",
       "  </tbody>\n",
       "</table>\n",
       "</div>"
      ],
      "text/plain": [
       "   year continent    lifeExp     gdpPercap\n",
       "0  1952    Africa  39.135500   1252.572466\n",
       "1  1952  Americas  53.279840   4079.062552\n",
       "2  1952      Asia  46.314394   5195.484004\n",
       "3  1952    Europe  64.408500   5661.057435\n",
       "4  1952   Oceania  69.255000  10298.085650"
      ]
     },
     "execution_count": 76,
     "metadata": {},
     "output_type": "execute_result"
    }
   ],
   "source": [
    "flat.head()"
   ]
  },
  {
   "cell_type": "code",
   "execution_count": 77,
   "id": "bea0f22f-2e42-4cdb-963f-1afc53088540",
   "metadata": {},
   "outputs": [
    {
     "name": "stdout",
     "output_type": "stream",
     "text": [
      "continent\n",
      "Africa      52\n",
      "Americas    25\n",
      "Asia        33\n",
      "Europe      30\n",
      "Oceania      2\n",
      "Name: country, dtype: int64\n"
     ]
    }
   ],
   "source": [
    "print(df.groupby('continent')['country'].nunique())"
   ]
  },
  {
   "cell_type": "code",
   "execution_count": 78,
   "id": "abf81977-5b49-40b5-be8f-160eeb323942",
   "metadata": {},
   "outputs": [],
   "source": [
    "global_yearly_life_expectancy=df.groupby('year')['lifeExp'].mean()"
   ]
  },
  {
   "cell_type": "code",
   "execution_count": 79,
   "id": "b83341f3-e781-47de-94dd-b856f0cc2e96",
   "metadata": {},
   "outputs": [
    {
     "name": "stdout",
     "output_type": "stream",
     "text": [
      "year\n",
      "1952    49.057620\n",
      "1957    51.507401\n",
      "1962    53.609249\n",
      "1967    55.678290\n",
      "1972    57.647386\n",
      "1977    59.570157\n",
      "1982    61.533197\n",
      "1987    63.212613\n",
      "1992    64.160338\n",
      "1997    65.014676\n",
      "2002    65.694923\n",
      "2007    67.007423\n",
      "Name: lifeExp, dtype: float64\n"
     ]
    }
   ],
   "source": [
    "print(global_yearly_life_expectancy)"
   ]
  },
  {
   "cell_type": "code",
   "execution_count": 80,
   "id": "477288ee-522d-44df-8c4e-f8ea6c35a5a8",
   "metadata": {},
   "outputs": [
    {
     "data": {
      "text/plain": [
       "<Axes: xlabel='year'>"
      ]
     },
     "execution_count": 80,
     "metadata": {},
     "output_type": "execute_result"
    },
    {
     "data": {
      "image/png": "[encoded data removed]",
      "text/plain": [
       "<Figure size 640x480 with 1 Axes>"
      ]
     },
     "metadata": {},
     "output_type": "display_data"
    }
   ],
   "source": [
    "global_yearly_life_expectancy.plot()"
   ]
  },
  {
   "cell_type": "code",
   "execution_count": null,
   "id": "6a190403-523b-4ec0-8830-2b3cffbdd47a",
   "metadata": {},
   "outputs": [],
   "source": []
  }
 ],
 "metadata": {
  "kernelspec": {
   "display_name": "Python 3 (ipykernel)",
   "language": "python",
   "name": "python3"
  },
  "language_info": {
   "codemirror_mode": {
    "name": "ipython",
    "version": 3
   },
   "file_extension": ".py",
   "mimetype": "text/x-python",
   "name": "python",
   "nbconvert_exporter": "python",
   "pygments_lexer": "ipython3",
   "version": "3.10.12"
  }
 },
 "nbformat": 4,
 "nbformat_minor": 5
}

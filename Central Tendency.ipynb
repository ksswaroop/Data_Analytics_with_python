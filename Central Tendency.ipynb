{
 "cells": [
  {
   "cell_type": "code",
   "execution_count": 1,
   "id": "0c3aac51-edbc-495c-b9c4-c019b0fc9cd3",
   "metadata": {},
   "outputs": [],
   "source": [
    "import numpy as np\n",
    "import pandas as pd"
   ]
  },
  {
   "cell_type": "code",
   "execution_count": 2,
   "id": "36f69dd5-6362-473b-b1c8-139b912badf4",
   "metadata": {},
   "outputs": [
    {
     "name": "stdout",
     "output_type": "stream",
     "text": [
      "'Central Tendency.ipynb'   Datasets   LICENSE  'Python Fundamentals.ipynb'\n"
     ]
    }
   ],
   "source": [
    "!ls"
   ]
  },
  {
   "cell_type": "code",
   "execution_count": 5,
   "id": "349d746f-f8f7-4e3c-858b-e942178a8aef",
   "metadata": {},
   "outputs": [
    {
     "name": "stdout",
     "output_type": "stream",
     "text": [
      "/home/swaroop/Documents/Coding/Data_Analytics_with_python\n"
     ]
    }
   ],
   "source": [
    "!pwd"
   ]
  },
  {
   "cell_type": "code",
   "execution_count": 6,
   "id": "b3b17045-64c8-466a-9e56-da40eb77a705",
   "metadata": {},
   "outputs": [],
   "source": [
    "path=\"/home/swaroop/Documents/Coding/Data_Analytics_with_python/Datasets/IBM-313 Marks.xlsx\""
   ]
  },
  {
   "cell_type": "code",
   "execution_count": 9,
   "id": "55af32b5-3939-4a57-8321-0b297a8e025e",
   "metadata": {},
   "outputs": [
    {
     "name": "stdout",
     "output_type": "stream",
     "text": [
      "    S.No.  MTE (25)  Mini Project (25)  Total (50)  ETE (50)  Total\n",
      "0       1      5.00                 20       25.00      12.0  37.00\n",
      "1       2     11.05                 20       31.05      26.0  57.05\n",
      "2       3      8.10                 20       28.10      14.0  42.10\n",
      "3       4      6.00                 10       16.00      13.0  29.00\n",
      "4       5     11.35                 20       31.35      17.0  48.35\n",
      "..    ...       ...                ...         ...       ...    ...\n",
      "74     75     12.05                 10       22.05      20.0  42.05\n",
      "75     76     12.25                 10       22.25      28.0  50.25\n",
      "76     77      1.75                 10       11.75       NaN   0.00\n",
      "77     78      3.00                 10       13.00       NaN   0.00\n",
      "78     79      5.80                 10       15.80      12.0  27.80\n",
      "\n",
      "[79 rows x 6 columns]\n"
     ]
    }
   ],
   "source": [
    "table=pd.read_excel(path)\n",
    "print(table)"
   ]
  },
  {
   "cell_type": "markdown",
   "id": "8ebdfdbc-a255-45da-9264-dadf5a68a3cf",
   "metadata": {},
   "source": [
    "#### Mean"
   ]
  },
  {
   "cell_type": "code",
   "execution_count": 10,
   "id": "4409d795-d1d3-49c6-b654-33372f3f4abd",
   "metadata": {},
   "outputs": [
    {
     "name": "stdout",
     "output_type": "stream",
     "text": [
      "46.90632911392405\n"
     ]
    }
   ],
   "source": [
    "x=table['Total']\n",
    "print(np.mean(x))"
   ]
  },
  {
   "cell_type": "markdown",
   "id": "789baf06-6679-4b7d-a64c-5d21b7ed0c78",
   "metadata": {},
   "source": [
    "#### Median"
   ]
  },
  {
   "cell_type": "code",
   "execution_count": 11,
   "id": "dc949b4b-9af8-4a79-b7b7-4e9958e33d3e",
   "metadata": {},
   "outputs": [
    {
     "name": "stdout",
     "output_type": "stream",
     "text": [
      "45.0\n"
     ]
    }
   ],
   "source": [
    "print(np.median(x))"
   ]
  },
  {
   "cell_type": "markdown",
   "id": "1bf7082e-6717-457a-a2ea-a58fe1ecd8ef",
   "metadata": {},
   "source": [
    "#### Mode"
   ]
  },
  {
   "cell_type": "code",
   "execution_count": 14,
   "id": "cafb7637-15c0-4d35-bf01-1dd9f95c7003",
   "metadata": {},
   "outputs": [],
   "source": [
    "import scipy\n",
    "from scipy import stats\n"
   ]
  },
  {
   "cell_type": "code",
   "execution_count": 15,
   "id": "3028e725-4511-4b5f-a63e-c9b6b083dd93",
   "metadata": {},
   "outputs": [
    {
     "name": "stdout",
     "output_type": "stream",
     "text": [
      "ModeResult(mode=0.0, count=2)\n"
     ]
    }
   ],
   "source": [
    "print(stats.mode(x))"
   ]
  },
  {
   "cell_type": "markdown",
   "id": "f1b3edf0-af1c-417f-9711-d9b6f4b9d2b7",
   "metadata": {},
   "source": [
    "#### Percentile"
   ]
  },
  {
   "cell_type": "code",
   "execution_count": 17,
   "id": "55d1208e-2d54-4a94-9e6f-2647a53e3664",
   "metadata": {},
   "outputs": [
    {
     "name": "stdout",
     "output_type": "stream",
     "text": [
      "6.5\n"
     ]
    }
   ],
   "source": [
    "a=np.array([1,2,3,4,5,6,7,8,9,11,12,13])\n",
    "p=np.percentile(a,50) #Return 50th percentile element\n",
    "print(p)"
   ]
  },
  {
   "cell_type": "markdown",
   "id": "35e38b6f-fc79-4cfa-964a-f1395e657029",
   "metadata": {},
   "source": [
    "#### Loop"
   ]
  },
  {
   "cell_type": "code",
   "execution_count": 18,
   "id": "31ff3f31-4e49-46cd-bbbd-9ef3fb42b739",
   "metadata": {},
   "outputs": [],
   "source": [
    "k=['Ram','Lak','Sita']"
   ]
  },
  {
   "cell_type": "code",
   "execution_count": 19,
   "id": "4072cc02-0709-420c-9003-3292dd3a792c",
   "metadata": {},
   "outputs": [
    {
     "name": "stdout",
     "output_type": "stream",
     "text": [
      "Ram\n",
      "Lak\n",
      "Sita\n"
     ]
    }
   ],
   "source": [
    "for i in k:\n",
    "    print(i)"
   ]
  },
  {
   "cell_type": "markdown",
   "id": "c0163f60-856c-41cb-8a7f-ffe56168c2af",
   "metadata": {},
   "source": [
    "#### Range"
   ]
  },
  {
   "cell_type": "code",
   "execution_count": 20,
   "id": "b89f1d75-cf95-4b54-b5d4-815907bd7ba0",
   "metadata": {},
   "outputs": [
    {
     "name": "stdout",
     "output_type": "stream",
     "text": [
      "10\n",
      "12\n",
      "14\n",
      "16\n",
      "18\n"
     ]
    }
   ],
   "source": [
    "for i in range(10,20,2):\n",
    "    print(i)"
   ]
  },
  {
   "cell_type": "code",
   "execution_count": 21,
   "id": "a2389889-4a36-45e5-b2e3-1798109fa71d",
   "metadata": {},
   "outputs": [
    {
     "name": "stdout",
     "output_type": "stream",
     "text": [
      "10,12,14,16,18,"
     ]
    }
   ],
   "source": [
    "for i in range(10,20,2):\n",
    "    print(i,end=',')"
   ]
  },
  {
   "cell_type": "code",
   "execution_count": 22,
   "id": "2ac1f251-18e7-46b0-ac25-f51bda3edaf1",
   "metadata": {},
   "outputs": [],
   "source": [
    "data=[1,2,4,5,28,11,18,12,340]\n"
   ]
  },
  {
   "cell_type": "code",
   "execution_count": 23,
   "id": "1d4e516e-7252-43e9-beb6-160c872237f2",
   "metadata": {},
   "outputs": [],
   "source": [
    "def min_and_max(d):\n",
    "    min_val=min(d)\n",
    "    max_val=max(d)\n",
    "    return (min_val,max_val)"
   ]
  },
  {
   "cell_type": "code",
   "execution_count": 24,
   "id": "0fa44ed3-499d-44ba-9783-24862484b167",
   "metadata": {},
   "outputs": [
    {
     "data": {
      "text/plain": [
       "(1, 340)"
      ]
     },
     "execution_count": 24,
     "metadata": {},
     "output_type": "execute_result"
    }
   ],
   "source": [
    "min_and_max(data)"
   ]
  },
  {
   "cell_type": "code",
   "execution_count": 25,
   "id": "27f0f996-c1dc-4d66-b086-9294af91d06b",
   "metadata": {},
   "outputs": [],
   "source": [
    "def rangeof(d):\n",
    "    min_val=min(d)\n",
    "    max_val=max(d)\n",
    "    return (max_val-min_val)"
   ]
  },
  {
   "cell_type": "code",
   "execution_count": 26,
   "id": "b0179514-03b1-4759-b855-c0e40d2e94a4",
   "metadata": {},
   "outputs": [
    {
     "data": {
      "text/plain": [
       "339"
      ]
     },
     "execution_count": 26,
     "metadata": {},
     "output_type": "execute_result"
    }
   ],
   "source": [
    "rangeof(data)"
   ]
  },
  {
   "cell_type": "markdown",
   "id": "c1f094e0-7f0a-4753-8b2d-f7388f802960",
   "metadata": {},
   "source": [
    "### Interquartile range"
   ]
  },
  {
   "cell_type": "code",
   "execution_count": 27,
   "id": "12bf3bcc-aede-4735-91f1-f416a7c3bb49",
   "metadata": {},
   "outputs": [
    {
     "name": "stdout",
     "output_type": "stream",
     "text": [
      "13.25\n"
     ]
    }
   ],
   "source": [
    "a=np.array([12,14,13,18,22,35])\n",
    "q1=np.percentile(a,25)\n",
    "print(q1)"
   ]
  },
  {
   "cell_type": "code",
   "execution_count": 28,
   "id": "d6e7eedb-2eb1-4c4d-87d8-c37cf60283f9",
   "metadata": {},
   "outputs": [
    {
     "name": "stdout",
     "output_type": "stream",
     "text": [
      "16.0\n"
     ]
    }
   ],
   "source": [
    "q2=np.percentile(a,50)\n",
    "print(q2)"
   ]
  },
  {
   "cell_type": "code",
   "execution_count": 29,
   "id": "6688bfd1-069e-4fb4-a0cc-7f285f641766",
   "metadata": {},
   "outputs": [
    {
     "name": "stdout",
     "output_type": "stream",
     "text": [
      "21.0\n"
     ]
    }
   ],
   "source": [
    "q3=np.percentile(a,75)\n",
    "print(q3)"
   ]
  },
  {
   "cell_type": "code",
   "execution_count": 30,
   "id": "c6b38746-fb48-4a49-9fac-5a156fd380a7",
   "metadata": {},
   "outputs": [
    {
     "data": {
      "text/plain": [
       "7.75"
      ]
     },
     "execution_count": 30,
     "metadata": {},
     "output_type": "execute_result"
    }
   ],
   "source": [
    "IQ=q3-q1\n",
    "IQ"
   ]
  },
  {
   "cell_type": "markdown",
   "id": "92a80cd4-462c-4ada-867b-f8efdf4de1dc",
   "metadata": {},
   "source": [
    "#### Varience"
   ]
  },
  {
   "cell_type": "code",
   "execution_count": 31,
   "id": "d64ee066-0c09-4b9d-91be-9a78f47c1053",
   "metadata": {},
   "outputs": [
    {
     "data": {
      "text/plain": [
       "262.7814789296587"
      ]
     },
     "execution_count": 31,
     "metadata": {},
     "output_type": "execute_result"
    }
   ],
   "source": [
    "np.var(x)"
   ]
  },
  {
   "cell_type": "markdown",
   "id": "f8cc2c9f-1361-4c96-b1d5-2e41ffc1d3a3",
   "metadata": {},
   "source": [
    "#### Population Standard Deviation"
   ]
  },
  {
   "cell_type": "code",
   "execution_count": 32,
   "id": "411caadb-73a0-4b7c-934e-b0a7c24a41ee",
   "metadata": {},
   "outputs": [],
   "source": [
    "import statistics"
   ]
  },
  {
   "cell_type": "code",
   "execution_count": 33,
   "id": "3ab2a8a6-4cdb-4022-8bd9-c01d4493d4d3",
   "metadata": {},
   "outputs": [
    {
     "name": "stdout",
     "output_type": "stream",
     "text": [
      "16.210536046955966\n"
     ]
    }
   ],
   "source": [
    "print(statistics.pstdev(x))"
   ]
  },
  {
   "cell_type": "markdown",
   "id": "1b3d8ac4-1afc-4646-915f-1e1bfb411eed",
   "metadata": {},
   "source": [
    "#### Sample Standard Deviation"
   ]
  },
  {
   "cell_type": "code",
   "execution_count": 34,
   "id": "eecb1faa-0069-4fb4-8e3a-518833cc684d",
   "metadata": {},
   "outputs": [
    {
     "name": "stdout",
     "output_type": "stream",
     "text": [
      "16.31411880088133\n"
     ]
    }
   ],
   "source": [
    "print(statistics.stdev(x))"
   ]
  },
  {
   "cell_type": "markdown",
   "id": "7ada6dc8-4094-4f48-a97b-a2c0709bed09",
   "metadata": {},
   "source": [
    "#### Skewness"
   ]
  },
  {
   "cell_type": "code",
   "execution_count": 35,
   "id": "22e37846-90b1-4eae-af7e-b5553422b581",
   "metadata": {},
   "outputs": [],
   "source": [
    "from scipy.stats import skew"
   ]
  },
  {
   "cell_type": "code",
   "execution_count": 36,
   "id": "36b1d252-4569-4d33-8949-7dc21c1d1837",
   "metadata": {},
   "outputs": [
    {
     "name": "stdout",
     "output_type": "stream",
     "text": [
      "0.10226407464884266\n"
     ]
    }
   ],
   "source": [
    "print(skew(x))"
   ]
  },
  {
   "cell_type": "markdown",
   "id": "55fa18c3-7ab2-438c-bc34-ac3528e3710a",
   "metadata": {},
   "source": [
    "#### Box plot"
   ]
  },
  {
   "cell_type": "code",
   "execution_count": 37,
   "id": "24ee29f3-6edb-4066-83f8-b3e9c7845c4c",
   "metadata": {},
   "outputs": [],
   "source": [
    "from matplotlib import pyplot as plt"
   ]
  },
  {
   "cell_type": "code",
   "execution_count": 38,
   "id": "6c487172-e5ab-490f-81d6-5dfd4faaad0a",
   "metadata": {},
   "outputs": [
    {
     "data": {
      "image/png": "[encoded data removed]",
      "text/plain": [
       "<Figure size 640x480 with 1 Axes>"
      ]
     },
     "metadata": {},
     "output_type": "display_data"
    }
   ],
   "source": [
    "plt.boxplot(x,sym='*')\n",
    "plt.show()"
   ]
  },
  {
   "cell_type": "code",
   "execution_count": null,
   "id": "2269771a-89cc-451d-b427-f900709057e1",
   "metadata": {},
   "outputs": [],
   "source": []
  }
 ],
 "metadata": {
  "kernelspec": {
   "display_name": "Python 3 (ipykernel)",
   "language": "python",
   "name": "python3"
  },
  "language_info": {
   "codemirror_mode": {
    "name": "ipython",
    "version": 3
   },
   "file_extension": ".py",
   "mimetype": "text/x-python",
   "name": "python",
   "nbconvert_exporter": "python",
   "pygments_lexer": "ipython3",
   "version": "3.10.12"
  }
 },
 "nbformat": 4,
 "nbformat_minor": 5
}
